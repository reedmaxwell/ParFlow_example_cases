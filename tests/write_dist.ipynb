{
 "cells": [
  {
   "cell_type": "code",
   "execution_count": 16,
   "metadata": {},
   "outputs": [],
   "source": [
    "import numpy as np\n",
    "import os\n",
    "from glob import glob\n",
    "import matplotlib.pyplot as plt\n",
    "\n",
    "import parflow as pf\n",
    "from parflow.tools.fs import get_absolute_path\n",
    "from parflow.tools.io import write_pfb, read_pfb, write_dist\n",
    "from parflow.tools.io import ParflowBinaryReader\n",
    "from parflow import Run"
   ]
  },
  {
   "cell_type": "code",
   "execution_count": 35,
   "metadata": {},
   "outputs": [],
   "source": [
    "# Create numpy array\n",
    "FBx_data = np.ones((10, 20, 20))\n",
    "FBx_data[4:6,:,:] = 10.0\n",
    "\n",
    "# Write a pfb out with all the standard settings\n",
    "out_file = 'test.pfb'\n",
    "write_pfb(out_file, FBx_data) \n",
    "\n",
    "# write a pfb out changing the grid resolution, and turning off the dist file\n",
    "out_file = 'test2.pfb'\n",
    "write_pfb(out_file, FBx_data, dx=100.0, dy=100.0, dz=10.0, dist=True, p=2, q=2, r=1) "
   ]
  },
  {
   "cell_type": "code",
   "execution_count": 38,
   "metadata": {},
   "outputs": [
    {
     "name": "stdout",
     "output_type": "stream",
     "text": [
      "{'x': 0.0, 'y': 0.0, 'z': 0.0, 'nx': 20, 'ny': 20, 'nz': 10, 'dx': 1.0, 'dy': 1.0, 'dz': 1.0, 'n_subgrids': 1, 'p': 1, 'q': 1, 'r': 1}\n",
      "{'x': 0.0, 'y': 0.0, 'z': 0.0, 'nx': 20, 'ny': 20, 'nz': 10, 'dx': 100.0, 'dy': 100.0, 'dz': 10.0, 'n_subgrids': 4, 'p': 2, 'q': 2, 'r': 1}\n",
      "{'x': (10, 10), 'y': (10, 10), 'z': (10,)}\n",
      "{'x': [array([0, 1, 2, 3, 4, 5, 6, 7, 8, 9]), array([10, 11, 12, 13, 14, 15, 16, 17, 18, 19])], 'y': [array([0, 1, 2, 3, 4, 5, 6, 7, 8, 9]), array([10, 11, 12, 13, 14, 15, 16, 17, 18, 19])], 'z': [array([0, 1, 2, 3, 4, 5, 6, 7, 8, 9])]}\n"
     ]
    }
   ],
   "source": [
    "test_data = read_pfb('test.pfb')\n",
    "#print(test_data.dx)\n",
    "#plt.imshow(test_data[:,:,10])\n",
    "#plt.show()\n",
    "\n",
    "\n",
    "test_data = read_pfb('test2.pfb')\n",
    "#print(test_data.dx)\n",
    "#plt.imshow(test_data[:,:,10])\n",
    "#plt.show()\n",
    "\n",
    "infile = \"test.pfb\"\n",
    "\n",
    "data = ParflowBinaryReader(infile) \n",
    "print(data.header)\n",
    "\n",
    "infile = \"test2.pfb\"\n",
    "\n",
    "data = ParflowBinaryReader(infile) \n",
    "print(data.header)\n",
    "print(data.chunks)\n",
    "print(data.coords)\n"
   ]
  }
 ],
 "metadata": {
  "interpreter": {
   "hash": "bfd746d4848bf981c82532630a55f3a74e1446f086dd0b6f2fbf64277693fa68"
  },
  "kernelspec": {
   "display_name": "Python 3.9.12",
   "language": "python",
   "name": "python3"
  },
  "language_info": {
   "name": "python",
   "version": "3.9.12"
  },
  "orig_nbformat": 4
 },
 "nbformat": 4,
 "nbformat_minor": 2
}
